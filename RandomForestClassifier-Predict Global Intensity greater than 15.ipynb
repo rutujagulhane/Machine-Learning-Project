{
 "cells": [
  {
   "cell_type": "markdown",
   "metadata": {},
   "source": [
    "# Machine Learning Model to predict if Global Intensity is greater than 15"
   ]
  },
  {
   "cell_type": "markdown",
   "metadata": {},
   "source": [
    "## 1. Data Loading"
   ]
  },
  {
   "cell_type": "code",
   "execution_count": 1,
   "metadata": {},
   "outputs": [],
   "source": [
    "# Importing all packages\n",
    "\n",
    "import pandas as pd # data processing, CSV file I/O \n",
    "import matplotlib.pyplot as plt # this is used for the plot the graph "
   ]
  },
  {
   "cell_type": "code",
   "execution_count": 2,
   "metadata": {},
   "outputs": [
    {
     "name": "stdout",
     "output_type": "stream",
     "text": [
      "Wall time: 19.5 s\n"
     ]
    },
    {
     "data": {
      "text/html": [
       "<div>\n",
       "<style scoped>\n",
       "    .dataframe tbody tr th:only-of-type {\n",
       "        vertical-align: middle;\n",
       "    }\n",
       "\n",
       "    .dataframe tbody tr th {\n",
       "        vertical-align: top;\n",
       "    }\n",
       "\n",
       "    .dataframe thead th {\n",
       "        text-align: right;\n",
       "    }\n",
       "</style>\n",
       "<table border=\"1\" class=\"dataframe\">\n",
       "  <thead>\n",
       "    <tr style=\"text-align: right;\">\n",
       "      <th></th>\n",
       "      <th>dt</th>\n",
       "      <th>Global_active_power</th>\n",
       "      <th>Global_reactive_power</th>\n",
       "      <th>Voltage</th>\n",
       "      <th>Global_intensity</th>\n",
       "      <th>Sub_metering_1</th>\n",
       "      <th>Sub_metering_2</th>\n",
       "      <th>Sub_metering_3</th>\n",
       "    </tr>\n",
       "  </thead>\n",
       "  <tbody>\n",
       "    <tr>\n",
       "      <td>0</td>\n",
       "      <td>2006-12-16 17:24:00</td>\n",
       "      <td>4.216</td>\n",
       "      <td>0.418</td>\n",
       "      <td>234.84</td>\n",
       "      <td>18.4</td>\n",
       "      <td>0.0</td>\n",
       "      <td>1.0</td>\n",
       "      <td>17.0</td>\n",
       "    </tr>\n",
       "    <tr>\n",
       "      <td>1</td>\n",
       "      <td>2006-12-16 17:25:00</td>\n",
       "      <td>5.360</td>\n",
       "      <td>0.436</td>\n",
       "      <td>233.63</td>\n",
       "      <td>23.0</td>\n",
       "      <td>0.0</td>\n",
       "      <td>1.0</td>\n",
       "      <td>16.0</td>\n",
       "    </tr>\n",
       "    <tr>\n",
       "      <td>2</td>\n",
       "      <td>2006-12-16 17:26:00</td>\n",
       "      <td>5.374</td>\n",
       "      <td>0.498</td>\n",
       "      <td>233.29</td>\n",
       "      <td>23.0</td>\n",
       "      <td>0.0</td>\n",
       "      <td>2.0</td>\n",
       "      <td>17.0</td>\n",
       "    </tr>\n",
       "    <tr>\n",
       "      <td>3</td>\n",
       "      <td>2006-12-16 17:27:00</td>\n",
       "      <td>5.388</td>\n",
       "      <td>0.502</td>\n",
       "      <td>233.74</td>\n",
       "      <td>23.0</td>\n",
       "      <td>0.0</td>\n",
       "      <td>1.0</td>\n",
       "      <td>17.0</td>\n",
       "    </tr>\n",
       "    <tr>\n",
       "      <td>4</td>\n",
       "      <td>2006-12-16 17:28:00</td>\n",
       "      <td>3.666</td>\n",
       "      <td>0.528</td>\n",
       "      <td>235.68</td>\n",
       "      <td>15.8</td>\n",
       "      <td>0.0</td>\n",
       "      <td>1.0</td>\n",
       "      <td>17.0</td>\n",
       "    </tr>\n",
       "    <tr>\n",
       "      <td>5</td>\n",
       "      <td>2006-12-16 17:29:00</td>\n",
       "      <td>3.520</td>\n",
       "      <td>0.522</td>\n",
       "      <td>235.02</td>\n",
       "      <td>15.0</td>\n",
       "      <td>0.0</td>\n",
       "      <td>2.0</td>\n",
       "      <td>17.0</td>\n",
       "    </tr>\n",
       "    <tr>\n",
       "      <td>6</td>\n",
       "      <td>2006-12-16 17:30:00</td>\n",
       "      <td>3.702</td>\n",
       "      <td>0.520</td>\n",
       "      <td>235.09</td>\n",
       "      <td>15.8</td>\n",
       "      <td>0.0</td>\n",
       "      <td>1.0</td>\n",
       "      <td>17.0</td>\n",
       "    </tr>\n",
       "    <tr>\n",
       "      <td>7</td>\n",
       "      <td>2006-12-16 17:31:00</td>\n",
       "      <td>3.700</td>\n",
       "      <td>0.520</td>\n",
       "      <td>235.22</td>\n",
       "      <td>15.8</td>\n",
       "      <td>0.0</td>\n",
       "      <td>1.0</td>\n",
       "      <td>17.0</td>\n",
       "    </tr>\n",
       "    <tr>\n",
       "      <td>8</td>\n",
       "      <td>2006-12-16 17:32:00</td>\n",
       "      <td>3.668</td>\n",
       "      <td>0.510</td>\n",
       "      <td>233.99</td>\n",
       "      <td>15.8</td>\n",
       "      <td>0.0</td>\n",
       "      <td>1.0</td>\n",
       "      <td>17.0</td>\n",
       "    </tr>\n",
       "    <tr>\n",
       "      <td>9</td>\n",
       "      <td>2006-12-16 17:33:00</td>\n",
       "      <td>3.662</td>\n",
       "      <td>0.510</td>\n",
       "      <td>233.86</td>\n",
       "      <td>15.8</td>\n",
       "      <td>0.0</td>\n",
       "      <td>2.0</td>\n",
       "      <td>16.0</td>\n",
       "    </tr>\n",
       "  </tbody>\n",
       "</table>\n",
       "</div>"
      ],
      "text/plain": [
       "                   dt  Global_active_power  Global_reactive_power  Voltage  \\\n",
       "0 2006-12-16 17:24:00                4.216                  0.418   234.84   \n",
       "1 2006-12-16 17:25:00                5.360                  0.436   233.63   \n",
       "2 2006-12-16 17:26:00                5.374                  0.498   233.29   \n",
       "3 2006-12-16 17:27:00                5.388                  0.502   233.74   \n",
       "4 2006-12-16 17:28:00                3.666                  0.528   235.68   \n",
       "5 2006-12-16 17:29:00                3.520                  0.522   235.02   \n",
       "6 2006-12-16 17:30:00                3.702                  0.520   235.09   \n",
       "7 2006-12-16 17:31:00                3.700                  0.520   235.22   \n",
       "8 2006-12-16 17:32:00                3.668                  0.510   233.99   \n",
       "9 2006-12-16 17:33:00                3.662                  0.510   233.86   \n",
       "\n",
       "   Global_intensity  Sub_metering_1  Sub_metering_2  Sub_metering_3  \n",
       "0              18.4             0.0             1.0            17.0  \n",
       "1              23.0             0.0             1.0            16.0  \n",
       "2              23.0             0.0             2.0            17.0  \n",
       "3              23.0             0.0             1.0            17.0  \n",
       "4              15.8             0.0             1.0            17.0  \n",
       "5              15.0             0.0             2.0            17.0  \n",
       "6              15.8             0.0             1.0            17.0  \n",
       "7              15.8             0.0             1.0            17.0  \n",
       "8              15.8             0.0             1.0            17.0  \n",
       "9              15.8             0.0             2.0            16.0  "
      ]
     },
     "execution_count": 2,
     "metadata": {},
     "output_type": "execute_result"
    }
   ],
   "source": [
    "%%time\n",
    "# Importing dataset\n",
    "\n",
    "df= pd.read_csv(\"C:/Users/Rutu/Desktop/B6TA1/Project/hpc_breakdowns.csv\",parse_dates={'dt' : ['Date', 'Time']}, \n",
    "                infer_datetime_format=True)\n",
    "df.drop(df.columns[df.columns.str.contains('unnamed',case = False)],axis = 1, inplace = True)\n",
    "df.head(10)"
   ]
  },
  {
   "cell_type": "code",
   "execution_count": 3,
   "metadata": {},
   "outputs": [
    {
     "data": {
      "text/html": [
       "<div>\n",
       "<style scoped>\n",
       "    .dataframe tbody tr th:only-of-type {\n",
       "        vertical-align: middle;\n",
       "    }\n",
       "\n",
       "    .dataframe tbody tr th {\n",
       "        vertical-align: top;\n",
       "    }\n",
       "\n",
       "    .dataframe thead th {\n",
       "        text-align: right;\n",
       "    }\n",
       "</style>\n",
       "<table border=\"1\" class=\"dataframe\">\n",
       "  <thead>\n",
       "    <tr style=\"text-align: right;\">\n",
       "      <th></th>\n",
       "      <th>dt</th>\n",
       "      <th>Global_active_power</th>\n",
       "      <th>Global_reactive_power</th>\n",
       "      <th>Voltage</th>\n",
       "      <th>Global_intensity</th>\n",
       "      <th>Sub_metering_1</th>\n",
       "      <th>Sub_metering_2</th>\n",
       "      <th>Sub_metering_3</th>\n",
       "      <th>Global_intensity_new</th>\n",
       "    </tr>\n",
       "  </thead>\n",
       "  <tbody>\n",
       "    <tr>\n",
       "      <td>0</td>\n",
       "      <td>2006-12-16 17:24:00</td>\n",
       "      <td>4.216</td>\n",
       "      <td>0.418</td>\n",
       "      <td>234.84</td>\n",
       "      <td>18.4</td>\n",
       "      <td>0.0</td>\n",
       "      <td>1.0</td>\n",
       "      <td>17.0</td>\n",
       "      <td>1</td>\n",
       "    </tr>\n",
       "    <tr>\n",
       "      <td>1</td>\n",
       "      <td>2006-12-16 17:25:00</td>\n",
       "      <td>5.360</td>\n",
       "      <td>0.436</td>\n",
       "      <td>233.63</td>\n",
       "      <td>23.0</td>\n",
       "      <td>0.0</td>\n",
       "      <td>1.0</td>\n",
       "      <td>16.0</td>\n",
       "      <td>1</td>\n",
       "    </tr>\n",
       "    <tr>\n",
       "      <td>2</td>\n",
       "      <td>2006-12-16 17:26:00</td>\n",
       "      <td>5.374</td>\n",
       "      <td>0.498</td>\n",
       "      <td>233.29</td>\n",
       "      <td>23.0</td>\n",
       "      <td>0.0</td>\n",
       "      <td>2.0</td>\n",
       "      <td>17.0</td>\n",
       "      <td>1</td>\n",
       "    </tr>\n",
       "    <tr>\n",
       "      <td>3</td>\n",
       "      <td>2006-12-16 17:27:00</td>\n",
       "      <td>5.388</td>\n",
       "      <td>0.502</td>\n",
       "      <td>233.74</td>\n",
       "      <td>23.0</td>\n",
       "      <td>0.0</td>\n",
       "      <td>1.0</td>\n",
       "      <td>17.0</td>\n",
       "      <td>1</td>\n",
       "    </tr>\n",
       "    <tr>\n",
       "      <td>4</td>\n",
       "      <td>2006-12-16 17:28:00</td>\n",
       "      <td>3.666</td>\n",
       "      <td>0.528</td>\n",
       "      <td>235.68</td>\n",
       "      <td>15.8</td>\n",
       "      <td>0.0</td>\n",
       "      <td>1.0</td>\n",
       "      <td>17.0</td>\n",
       "      <td>1</td>\n",
       "    </tr>\n",
       "  </tbody>\n",
       "</table>\n",
       "</div>"
      ],
      "text/plain": [
       "                   dt  Global_active_power  Global_reactive_power  Voltage  \\\n",
       "0 2006-12-16 17:24:00                4.216                  0.418   234.84   \n",
       "1 2006-12-16 17:25:00                5.360                  0.436   233.63   \n",
       "2 2006-12-16 17:26:00                5.374                  0.498   233.29   \n",
       "3 2006-12-16 17:27:00                5.388                  0.502   233.74   \n",
       "4 2006-12-16 17:28:00                3.666                  0.528   235.68   \n",
       "\n",
       "   Global_intensity  Sub_metering_1  Sub_metering_2  Sub_metering_3  \\\n",
       "0              18.4             0.0             1.0            17.0   \n",
       "1              23.0             0.0             1.0            16.0   \n",
       "2              23.0             0.0             2.0            17.0   \n",
       "3              23.0             0.0             1.0            17.0   \n",
       "4              15.8             0.0             1.0            17.0   \n",
       "\n",
       "   Global_intensity_new  \n",
       "0                     1  \n",
       "1                     1  \n",
       "2                     1  \n",
       "3                     1  \n",
       "4                     1  "
      ]
     },
     "execution_count": 3,
     "metadata": {},
     "output_type": "execute_result"
    }
   ],
   "source": [
    "# Adding a column to check condition for classification\n",
    "df['Global_intensity_new']=df.Global_intensity>15.0\n",
    "df[['Global_intensity_new']] = df[['Global_intensity_new']].astype(int)\n",
    "df.head()"
   ]
  },
  {
   "cell_type": "markdown",
   "metadata": {},
   "source": [
    "## 2. Data Analysis"
   ]
  },
  {
   "cell_type": "code",
   "execution_count": 4,
   "metadata": {},
   "outputs": [
    {
     "name": "stdout",
     "output_type": "stream",
     "text": [
      "<class 'pandas.core.frame.DataFrame'>\n",
      "RangeIndex: 2049280 entries, 0 to 2049279\n",
      "Data columns (total 9 columns):\n",
      "dt                       datetime64[ns]\n",
      "Global_active_power      float64\n",
      "Global_reactive_power    float64\n",
      "Voltage                  float64\n",
      "Global_intensity         float64\n",
      "Sub_metering_1           float64\n",
      "Sub_metering_2           float64\n",
      "Sub_metering_3           float64\n",
      "Global_intensity_new     int32\n",
      "dtypes: datetime64[ns](1), float64(7), int32(1)\n",
      "memory usage: 132.9 MB\n"
     ]
    }
   ],
   "source": [
    "df.info()"
   ]
  },
  {
   "cell_type": "code",
   "execution_count": 5,
   "metadata": {},
   "outputs": [
    {
     "data": {
      "text/plain": [
       "dt                       datetime64[ns]\n",
       "Global_active_power             float64\n",
       "Global_reactive_power           float64\n",
       "Voltage                         float64\n",
       "Global_intensity                float64\n",
       "Sub_metering_1                  float64\n",
       "Sub_metering_2                  float64\n",
       "Sub_metering_3                  float64\n",
       "Global_intensity_new              int32\n",
       "dtype: object"
      ]
     },
     "execution_count": 5,
     "metadata": {},
     "output_type": "execute_result"
    }
   ],
   "source": [
    "df.dtypes"
   ]
  },
  {
   "cell_type": "code",
   "execution_count": 6,
   "metadata": {},
   "outputs": [
    {
     "data": {
      "text/html": [
       "<div>\n",
       "<style scoped>\n",
       "    .dataframe tbody tr th:only-of-type {\n",
       "        vertical-align: middle;\n",
       "    }\n",
       "\n",
       "    .dataframe tbody tr th {\n",
       "        vertical-align: top;\n",
       "    }\n",
       "\n",
       "    .dataframe thead th {\n",
       "        text-align: right;\n",
       "    }\n",
       "</style>\n",
       "<table border=\"1\" class=\"dataframe\">\n",
       "  <thead>\n",
       "    <tr style=\"text-align: right;\">\n",
       "      <th></th>\n",
       "      <th>Global_active_power</th>\n",
       "      <th>Global_reactive_power</th>\n",
       "      <th>Voltage</th>\n",
       "      <th>Global_intensity</th>\n",
       "      <th>Sub_metering_1</th>\n",
       "      <th>Sub_metering_2</th>\n",
       "      <th>Sub_metering_3</th>\n",
       "      <th>Global_intensity_new</th>\n",
       "    </tr>\n",
       "  </thead>\n",
       "  <tbody>\n",
       "    <tr>\n",
       "      <td>count</td>\n",
       "      <td>2.047237e+06</td>\n",
       "      <td>2.048803e+06</td>\n",
       "      <td>2.047249e+06</td>\n",
       "      <td>2.047279e+06</td>\n",
       "      <td>2.047983e+06</td>\n",
       "      <td>2.048070e+06</td>\n",
       "      <td>2.049151e+06</td>\n",
       "      <td>2.049280e+06</td>\n",
       "    </tr>\n",
       "    <tr>\n",
       "      <td>mean</td>\n",
       "      <td>1.091655e+00</td>\n",
       "      <td>1.237129e-01</td>\n",
       "      <td>2.408405e+02</td>\n",
       "      <td>4.627869e+00</td>\n",
       "      <td>1.122227e+00</td>\n",
       "      <td>1.298954e+00</td>\n",
       "      <td>6.458394e+00</td>\n",
       "      <td>3.784500e-02</td>\n",
       "    </tr>\n",
       "    <tr>\n",
       "      <td>std</td>\n",
       "      <td>1.057290e+00</td>\n",
       "      <td>1.127240e-01</td>\n",
       "      <td>3.238838e+00</td>\n",
       "      <td>4.444695e+00</td>\n",
       "      <td>6.153978e+00</td>\n",
       "      <td>5.823372e+00</td>\n",
       "      <td>8.437150e+00</td>\n",
       "      <td>1.908213e-01</td>\n",
       "    </tr>\n",
       "    <tr>\n",
       "      <td>min</td>\n",
       "      <td>7.600000e-02</td>\n",
       "      <td>0.000000e+00</td>\n",
       "      <td>2.232000e+02</td>\n",
       "      <td>2.000000e-01</td>\n",
       "      <td>0.000000e+00</td>\n",
       "      <td>0.000000e+00</td>\n",
       "      <td>0.000000e+00</td>\n",
       "      <td>0.000000e+00</td>\n",
       "    </tr>\n",
       "    <tr>\n",
       "      <td>25%</td>\n",
       "      <td>3.080000e-01</td>\n",
       "      <td>4.800000e-02</td>\n",
       "      <td>2.389900e+02</td>\n",
       "      <td>1.400000e+00</td>\n",
       "      <td>0.000000e+00</td>\n",
       "      <td>0.000000e+00</td>\n",
       "      <td>0.000000e+00</td>\n",
       "      <td>0.000000e+00</td>\n",
       "    </tr>\n",
       "    <tr>\n",
       "      <td>50%</td>\n",
       "      <td>6.020000e-01</td>\n",
       "      <td>1.000000e-01</td>\n",
       "      <td>2.410100e+02</td>\n",
       "      <td>2.600000e+00</td>\n",
       "      <td>0.000000e+00</td>\n",
       "      <td>0.000000e+00</td>\n",
       "      <td>1.000000e+00</td>\n",
       "      <td>0.000000e+00</td>\n",
       "    </tr>\n",
       "    <tr>\n",
       "      <td>75%</td>\n",
       "      <td>1.528000e+00</td>\n",
       "      <td>1.940000e-01</td>\n",
       "      <td>2.428900e+02</td>\n",
       "      <td>6.400000e+00</td>\n",
       "      <td>0.000000e+00</td>\n",
       "      <td>1.000000e+00</td>\n",
       "      <td>1.700000e+01</td>\n",
       "      <td>0.000000e+00</td>\n",
       "    </tr>\n",
       "    <tr>\n",
       "      <td>max</td>\n",
       "      <td>1.112200e+01</td>\n",
       "      <td>1.390000e+00</td>\n",
       "      <td>2.541500e+02</td>\n",
       "      <td>4.840000e+01</td>\n",
       "      <td>8.800000e+01</td>\n",
       "      <td>8.000000e+01</td>\n",
       "      <td>3.100000e+01</td>\n",
       "      <td>1.000000e+00</td>\n",
       "    </tr>\n",
       "  </tbody>\n",
       "</table>\n",
       "</div>"
      ],
      "text/plain": [
       "       Global_active_power  Global_reactive_power       Voltage  \\\n",
       "count         2.047237e+06           2.048803e+06  2.047249e+06   \n",
       "mean          1.091655e+00           1.237129e-01  2.408405e+02   \n",
       "std           1.057290e+00           1.127240e-01  3.238838e+00   \n",
       "min           7.600000e-02           0.000000e+00  2.232000e+02   \n",
       "25%           3.080000e-01           4.800000e-02  2.389900e+02   \n",
       "50%           6.020000e-01           1.000000e-01  2.410100e+02   \n",
       "75%           1.528000e+00           1.940000e-01  2.428900e+02   \n",
       "max           1.112200e+01           1.390000e+00  2.541500e+02   \n",
       "\n",
       "       Global_intensity  Sub_metering_1  Sub_metering_2  Sub_metering_3  \\\n",
       "count      2.047279e+06    2.047983e+06    2.048070e+06    2.049151e+06   \n",
       "mean       4.627869e+00    1.122227e+00    1.298954e+00    6.458394e+00   \n",
       "std        4.444695e+00    6.153978e+00    5.823372e+00    8.437150e+00   \n",
       "min        2.000000e-01    0.000000e+00    0.000000e+00    0.000000e+00   \n",
       "25%        1.400000e+00    0.000000e+00    0.000000e+00    0.000000e+00   \n",
       "50%        2.600000e+00    0.000000e+00    0.000000e+00    1.000000e+00   \n",
       "75%        6.400000e+00    0.000000e+00    1.000000e+00    1.700000e+01   \n",
       "max        4.840000e+01    8.800000e+01    8.000000e+01    3.100000e+01   \n",
       "\n",
       "       Global_intensity_new  \n",
       "count          2.049280e+06  \n",
       "mean           3.784500e-02  \n",
       "std            1.908213e-01  \n",
       "min            0.000000e+00  \n",
       "25%            0.000000e+00  \n",
       "50%            0.000000e+00  \n",
       "75%            0.000000e+00  \n",
       "max            1.000000e+00  "
      ]
     },
     "execution_count": 6,
     "metadata": {},
     "output_type": "execute_result"
    }
   ],
   "source": [
    "df.describe()"
   ]
  },
  {
   "cell_type": "code",
   "execution_count": 7,
   "metadata": {},
   "outputs": [
    {
     "data": {
      "text/plain": [
       "Index(['dt', 'Global_active_power', 'Global_reactive_power', 'Voltage',\n",
       "       'Global_intensity', 'Sub_metering_1', 'Sub_metering_2',\n",
       "       'Sub_metering_3', 'Global_intensity_new'],\n",
       "      dtype='object')"
      ]
     },
     "execution_count": 7,
     "metadata": {},
     "output_type": "execute_result"
    }
   ],
   "source": [
    "df.columns"
   ]
  },
  {
   "cell_type": "markdown",
   "metadata": {},
   "source": [
    "### Data Visualization"
   ]
  },
  {
   "cell_type": "code",
   "execution_count": 8,
   "metadata": {},
   "outputs": [
    {
     "data": {
      "image/png": "[encoded data removed]",
      "text/plain": [
       "<Figure size 432x432 with 3 Axes>"
      ]
     },
     "metadata": {
      "needs_background": "light"
     },
     "output_type": "display_data"
    }
   ],
   "source": [
    "# The correlations between 'Global_intensity', 'Global_active_power'\n",
    "\n",
    "import seaborn as sns\n",
    "sns.jointplot(x='Global_intensity', y='Global_active_power', data=df)  \n",
    "plt.show()"
   ]
  },
  {
   "cell_type": "code",
   "execution_count": 9,
   "metadata": {},
   "outputs": [
    {
     "data": {
      "image/png": "[encoded data removed]",
      "text/plain": [
       "<Figure size 432x432 with 3 Axes>"
      ]
     },
     "metadata": {
      "needs_background": "light"
     },
     "output_type": "display_data"
    }
   ],
   "source": [
    "## The correlations between 'Voltage' and  'Global_active_power'\n",
    "\n",
    "sns.jointplot(x='Voltage', y='Global_active_power', data=df)  \n",
    "plt.show()"
   ]
  },
  {
   "cell_type": "markdown",
   "metadata": {},
   "source": [
    "### From above two plots it is seen that 'Global_intensity' and 'Global_active_power' correlated. But 'Voltage', 'Global_active_power' are less correlated. This is important observation for machine learning purpose."
   ]
  },
  {
   "cell_type": "code",
   "execution_count": 10,
   "metadata": {},
   "outputs": [
    {
     "data": {
      "text/plain": [
       "(8, 0)"
      ]
     },
     "execution_count": 10,
     "metadata": {},
     "output_type": "execute_result"
    },
    {
     "data": {
      "image/png": "[encoded data removed]",
      "text/plain": [
       "<Figure size 720x720 with 2 Axes>"
      ]
     },
     "metadata": {
      "needs_background": "light"
     },
     "output_type": "display_data"
    }
   ],
   "source": [
    "# Calculate correlations among Columns\n",
    "\n",
    "plt.figure(figsize=(10,10))\n",
    "ax=sns.heatmap(df.corr(), vmin=-1, cmap='coolwarm', annot=True);\n",
    "ax.set_ylim(8, 0)"
   ]
  },
  {
   "cell_type": "code",
   "execution_count": 11,
   "metadata": {},
   "outputs": [
    {
     "data": {
      "text/plain": [
       "<matplotlib.axes._subplots.AxesSubplot at 0x1ed84e129c8>"
      ]
     },
     "execution_count": 11,
     "metadata": {},
     "output_type": "execute_result"
    },
    {
     "data": {
      "image/png": "[encoded data removed]",
      "text/plain": [
       "<Figure size 432x288 with 1 Axes>"
      ]
     },
     "metadata": {
      "needs_background": "light"
     },
     "output_type": "display_data"
    }
   ],
   "source": [
    "# Checking the Outliers\n",
    "\n",
    "import seaborn as sb\n",
    "sb.boxplot(x=df[\"Global_intensity\"],data=df)"
   ]
  },
  {
   "cell_type": "code",
   "execution_count": 11,
   "metadata": {},
   "outputs": [
    {
     "data": {
      "text/plain": [
       "dt                          0\n",
       "Global_intensity_new        0\n",
       "Sub_metering_3            129\n",
       "Global_reactive_power     477\n",
       "Sub_metering_2           1210\n",
       "Sub_metering_1           1297\n",
       "Global_intensity         2001\n",
       "Voltage                  2031\n",
       "Global_active_power      2043\n",
       "dtype: int64"
      ]
     },
     "execution_count": 11,
     "metadata": {},
     "output_type": "execute_result"
    }
   ],
   "source": [
    "# Checking for null values\n",
    "\n",
    "df.isnull().sum().sort_values()"
   ]
  },
  {
   "cell_type": "code",
   "execution_count": 12,
   "metadata": {},
   "outputs": [
    {
     "name": "stdout",
     "output_type": "stream",
     "text": [
      "['2006-12-16T17:24:00.000000000' '2006-12-16T17:25:00.000000000'\n",
      " '2006-12-16T17:26:00.000000000' ... '2010-11-26T21:00:00.000000000'\n",
      " '2010-11-26T21:01:00.000000000' '2010-11-26T21:02:00.000000000']\n",
      "[4.216 5.36  5.374 ... 3.626 4.214 3.124]\n",
      "[0.418 0.436 0.498 0.502 0.528 0.522 0.52  0.51  0.47  0.478 0.398 0.422\n",
      " 0.282 0.152 0.156 0.    0.076 0.09  0.2   0.058 0.18  0.144 0.118 0.108\n",
      " 0.202 0.192 0.186 0.116 0.136 0.148 0.16  0.158 0.1   0.082 0.05  0.052\n",
      " 0.162 0.086 0.048 0.054 0.068 0.166 0.174 0.178 0.188 0.088 0.08  0.07\n",
      " 0.084 0.074 0.106 0.092 0.064 0.046 0.138 0.134 0.132 0.12  0.13  0.154\n",
      " 0.078 0.142 0.14  0.146 0.15  0.17  0.102 0.072 0.06  0.056 0.062 0.112\n",
      " 0.066 0.172 0.168 0.194 0.184 0.096 0.164 0.182 0.094 0.098 0.176 0.19\n",
      " 0.204 0.22  0.198 0.208 0.244 0.334 0.298 0.296 0.286 0.278 0.104 0.258\n",
      " 0.238 0.256 0.214 0.23  0.21  0.24  0.124 0.122 0.27  0.302 0.272 0.25\n",
      " 0.294 0.3   0.128 0.126 0.234 0.242 0.316 0.28  0.288 0.224 0.11  0.248\n",
      " 0.254 0.222 0.246 0.216 0.212 0.114 0.206 0.228 0.226 0.196 0.218 0.368\n",
      " 0.338 0.31  0.304 0.292 0.268 0.266 0.26  0.396 0.38  0.4   0.384 0.416\n",
      " 0.404 0.382 0.232 0.314 0.312 0.262 0.252 0.236 0.348 0.342 0.34  0.35\n",
      " 0.504 0.344 0.346 0.366 0.574 0.582 0.37  0.364 0.36  0.362 0.372 0.392\n",
      " 0.354 0.356 0.358 0.402 0.394 0.39  0.386 0.274 0.264 0.324 0.352 0.276\n",
      " 0.306 0.376 0.562 0.44  0.378 0.426 0.45  0.374 0.388 0.284 0.29  0.308\n",
      " 0.318 0.32  0.322 0.326 0.336 0.414 0.408 0.472 0.464 0.462 0.578 0.576\n",
      " 0.58  0.474 0.514 0.646 0.636 0.598 0.586 0.566 0.406 0.43  0.412 0.442\n",
      " 0.452 0.432 0.33  0.328 0.538 0.564 0.552 0.556 0.606 0.424 0.492 0.526\n",
      " 0.512 0.482 0.446 0.332 0.548 0.534 0.532 0.688 0.664 0.66  0.53  0.516\n",
      " 0.572 0.54  0.614 0.568 0.444 0.456 0.448 0.48  0.434 0.438 0.494 0.496\n",
      " 0.468 0.56  0.622 0.57  0.618 0.624 0.466 0.42  0.5   0.602 0.632 0.724\n",
      " 0.706 0.484 0.458 0.428 0.486 0.698 0.708 0.686 0.666 0.658 0.49  0.454\n",
      " 0.64  0.59  0.524 0.634 0.476 0.694 0.7   0.794 0.592 0.46  0.656 0.644\n",
      " 0.488 0.41  0.55  0.616 0.8   0.79  0.788 0.67  0.506 0.6   0.68  0.678\n",
      " 0.682 0.69  0.508 0.604 0.608 0.554 0.518 0.65  0.648 0.642 0.654 0.754\n",
      " 0.75  0.742 0.594 0.536 0.544 0.63  0.542 0.672 0.588 0.596 0.584 0.674\n",
      " 0.726 0.768 0.774 0.712 0.856 0.862 0.848 0.73  0.71  0.662 0.722 0.704\n",
      " 0.546 0.638 0.628 0.62  0.716 0.778 0.702 0.676 0.834 0.802 0.772 0.558\n",
      " 0.626 0.652 0.76  0.78  0.784 0.786 0.792 0.782 0.832 0.842 0.744 0.822\n",
      " 0.612 0.692 0.684 0.874 0.804 0.696 0.61  0.718 0.732 0.72  0.748 0.796\n",
      " 0.736 0.82  0.808 0.756 0.776 0.806 0.764 0.818 0.77  0.758 0.858 0.86\n",
      " 0.85  0.752 0.714 0.84  0.83  0.838 0.738 0.828 0.74  0.746 0.988 0.966\n",
      " 0.96  0.956 0.854 0.912 0.734 0.728 0.826 0.88  0.878 0.876 0.93  0.986\n",
      " 0.972   nan 0.946 0.902 1.046 1.148 1.054 0.89  0.668 1.092 0.996 0.974\n",
      " 1.04  1.06  1.028 0.908 0.898 0.95  0.964 0.94  0.928 0.896 0.868 0.87\n",
      " 0.866 0.864 0.872 0.812 0.836 0.824 0.814 0.762 0.994 1.032 0.816 0.944\n",
      " 0.968 0.916 1.014 1.008 1.002 0.81  1.    1.006 1.012 1.034 0.852 0.924\n",
      " 0.942 0.982 0.906 0.932 0.914 0.846 0.844 1.222 1.19  1.18  1.118 1.082\n",
      " 1.08  0.91  1.102 1.274 1.364 1.39  0.918 1.198 1.192 0.936 0.954 0.98\n",
      " 0.99  0.904 0.798 0.766 1.09  1.016 0.922 1.036 0.892 0.894 0.9   0.886\n",
      " 1.096 0.92  0.962 0.958 0.998 1.044 1.048 0.938 0.934 1.13  1.218 0.888\n",
      " 0.882 1.156 1.024 1.088 1.084 1.076 1.066 1.07  1.24  0.926 0.952 0.884\n",
      " 1.186 1.108 1.03  1.02  0.978 0.97  0.948 1.064 1.078 1.074 1.124 1.018\n",
      " 0.976 1.038 1.094 1.1   1.026 0.216 0.058 0.334 0.232 0.112 0.056 0.116\n",
      " 0.108 0.104 0.236 0.458 0.328 0.206 0.194 0.398 0.454 0.378 0.338 0.234\n",
      " 0.202 0.208 0.246 0.238 0.224 0.118 0.186 0.422 0.492 0.362 0.372 0.274\n",
      " 0.412 0.472 0.438 0.394 1.108 0.468 0.388 0.416 0.432 0.404 0.464 0.476\n",
      " 0.448 0.482]\n",
      "[234.84 233.63 233.29 ... 251.63 253.08 253.16]\n",
      "[18.4 23.  15.8 15.  19.6 23.2 22.4 22.6 17.6 14.2 13.8 14.4 16.4 25.4\n",
      " 33.2 30.6 22.  19.4 13.6 13.4 11.6 19.2 10.4 11.8 11.  21.  26.2 29.\n",
      " 27.8 27.  19.   9.6 10.  21.4 17.8 12.  12.4 15.2 20.8 15.6 26.4 18.8\n",
      " 13.   9.8  9.2 13.2 18.  10.8 10.6 18.2 17.  17.4 14.8 14.6 15.4 14.\n",
      "  8.4  9.4  7.8  8.2  8.6 11.4 12.6  9.   7.6 12.8  7.4  5.6  4.6  7.2\n",
      "  1.6  2.4  2.8  1.2  4.4  4.  10.2  6.8  5.2  6.   6.6  8.   2.   4.8\n",
      "  5.4 16.6  3.   1.8  8.8  1.4 21.8 20.2 16.  18.6 16.8 11.2  2.6 16.2\n",
      "  4.2  7.   3.8  3.2  5.   3.6  0.8  5.8  1.   6.4  6.2  3.4  2.2 12.2\n",
      " 30.  29.4 28.2 25.8 20.  24.8 24.6 25.2 25.  23.4 23.8 20.6 21.6 19.8\n",
      " 20.4 26.6 17.2 21.2 23.6 29.2 33.6 28.  30.2 33.4 24.2 24.  22.2 24.4\n",
      " 22.8  nan 30.4 34.2 32.8 33.  32.6 31.6 28.6 25.6 31.  28.4 27.2 29.8\n",
      " 29.6 37.  36.8 32.4 27.4 35.  34.8 32.2 26.  35.2 36.2 27.6 26.8 34.4\n",
      " 31.4 30.8 31.2 39.  39.2 39.4 28.8 38.8 35.6 32.  33.8 36.  37.2 34.\n",
      " 31.8 36.6 40.4 37.4 38.2 36.4 35.4 34.6 35.8 38.  40.2 41.  41.4 41.2\n",
      " 41.8 38.6 44.4 46.4 43.2 39.8 40.8  0.6  0.4 37.8 40.6 38.4 42.  42.2\n",
      " 39.6 42.6 44.2 37.6 40.   0.2 44.6 43.4 43.  45.8 48.4 42.8]\n",
      "[ 0.  1.  2.  6. 37. 36. 38. 25. 12. 11.  9.  4. 33.  5. 34.  8. 26. 27.\n",
      " 15. 20. 21. 23. 16. 10. 39. 32. nan 19. 35. 30. 40.  7. 31. 17.  3. 29.\n",
      " 24. 14. 41. 53. 76. 75. 77. 74. 28. 68. 58. 62. 13. 18. 22. 64. 71. 56.\n",
      " 72. 45. 42. 59. 66. 43. 44. 48. 46. 73. 55. 60. 70. 63. 67. 47. 65. 51.\n",
      " 50. 69. 78. 57. 49. 61. 52. 54. 79. 80. 81. 82. 83. 84. 88. 86. 87.]\n",
      "[ 1.  2.  0. 16. 37. 36. 22. 12. 27. 20.  9.  4.  3.  5. 13. 35. 28. 26.\n",
      " 24. 21. 17. 33. 25. 23. 18. 30. 31.  7. 38. 29. 50. 71. 59. 62. 70. 40.\n",
      " 34.  8. 15.  6. 32. 19. 14. 49. 72. 73. 61. 39. 42. 10. 56. 11. 43. 67.\n",
      " 63. 53. 65. 52. 69. 48. 74. 41. 47. 58. 68. 64. 75. 46. 57. 60. 66. 44.\n",
      " 78. 77. 76. 51. 55. 45. 54. nan 79. 80.]\n",
      "[17. 16. 18.  9.  0.  5. 19. 10. 20.  8.  4.  2.  3. 11. 13.  6. 15. 12.\n",
      "  1. 14.  7. nan 23. 25. 26. 28. 27. 21. 22. 29. 24. 30. 31.]\n",
      "[1 0]\n"
     ]
    }
   ],
   "source": [
    "# List Unique values\n",
    "\n",
    "for j in range(0,9):\n",
    "       print(df.iloc[:, j].unique())"
   ]
  },
  {
   "cell_type": "markdown",
   "metadata": {},
   "source": [
    "## 3. Data Cleaning"
   ]
  },
  {
   "cell_type": "code",
   "execution_count": 13,
   "metadata": {},
   "outputs": [
    {
     "data": {
      "text/plain": [
       "[1, 2, 3, 4, 5, 6, 7]"
      ]
     },
     "execution_count": 13,
     "metadata": {},
     "output_type": "execute_result"
    }
   ],
   "source": [
    "# Finding all columns that have nan (Dealing with missing values)\n",
    "\n",
    "droping_list_all=[]\n",
    "for j in range(0,9):\n",
    "    if not df.iloc[:, j].notnull().all():\n",
    "        droping_list_all.append(j)        \n",
    "droping_list_all"
   ]
  },
  {
   "cell_type": "code",
   "execution_count": 14,
   "metadata": {},
   "outputs": [],
   "source": [
    "# Filling nan with mean in any columns\n",
    "\n",
    "for j in range(0,9):        \n",
    "        df.iloc[:,j]=df.iloc[:,j].fillna(df.iloc[:,j].mean())"
   ]
  },
  {
   "cell_type": "code",
   "execution_count": 15,
   "metadata": {},
   "outputs": [
    {
     "data": {
      "text/plain": [
       "dt                       0\n",
       "Global_active_power      0\n",
       "Global_reactive_power    0\n",
       "Voltage                  0\n",
       "Global_intensity         0\n",
       "Sub_metering_1           0\n",
       "Sub_metering_2           0\n",
       "Sub_metering_3           0\n",
       "Global_intensity_new     0\n",
       "dtype: int64"
      ]
     },
     "execution_count": 15,
     "metadata": {},
     "output_type": "execute_result"
    }
   ],
   "source": [
    "# Check to make sure that there are not more any 'nan'\n",
    "\n",
    "df.isnull().sum()"
   ]
  },
  {
   "cell_type": "code",
   "execution_count": 16,
   "metadata": {},
   "outputs": [
    {
     "data": {
      "text/plain": [
       "(2049280, 10)"
      ]
     },
     "execution_count": 16,
     "metadata": {},
     "output_type": "execute_result"
    }
   ],
   "source": [
    "# Check Duplicates\n",
    "\n",
    "df[\"is_duplicate\"]= df.duplicated()\n",
    "df.shape"
   ]
  },
  {
   "cell_type": "code",
   "execution_count": 17,
   "metadata": {},
   "outputs": [
    {
     "data": {
      "text/plain": [
       "(2049280, 9)"
      ]
     },
     "execution_count": 17,
     "metadata": {},
     "output_type": "execute_result"
    }
   ],
   "source": [
    "# Remove Duplicates \n",
    "\n",
    "df = df.drop_duplicates(subset=None,keep=\"first\") # Dropping duplicate rows\n",
    "df=df.drop(['is_duplicate'],axis=1)  # Dropping created 'is_duplicate' column \n",
    "df.shape"
   ]
  },
  {
   "cell_type": "markdown",
   "metadata": {},
   "source": [
    "## 4. Data Transformation"
   ]
  },
  {
   "cell_type": "code",
   "execution_count": 18,
   "metadata": {},
   "outputs": [
    {
     "data": {
      "text/html": [
       "<div>\n",
       "<style scoped>\n",
       "    .dataframe tbody tr th:only-of-type {\n",
       "        vertical-align: middle;\n",
       "    }\n",
       "\n",
       "    .dataframe tbody tr th {\n",
       "        vertical-align: top;\n",
       "    }\n",
       "\n",
       "    .dataframe thead th {\n",
       "        text-align: right;\n",
       "    }\n",
       "</style>\n",
       "<table border=\"1\" class=\"dataframe\">\n",
       "  <thead>\n",
       "    <tr style=\"text-align: right;\">\n",
       "      <th></th>\n",
       "      <th>dt</th>\n",
       "      <th>Global_active_power</th>\n",
       "      <th>Global_reactive_power</th>\n",
       "      <th>Voltage</th>\n",
       "      <th>Global_intensity</th>\n",
       "      <th>Sub_metering_1</th>\n",
       "      <th>Sub_metering_2</th>\n",
       "      <th>Sub_metering_3</th>\n",
       "      <th>Global_intensity_new</th>\n",
       "    </tr>\n",
       "  </thead>\n",
       "  <tbody>\n",
       "    <tr>\n",
       "      <td>1849280</td>\n",
       "      <td>2010-07-02 07:58:00</td>\n",
       "      <td>0.376</td>\n",
       "      <td>0.208</td>\n",
       "      <td>237.01</td>\n",
       "      <td>1.8</td>\n",
       "      <td>0.0</td>\n",
       "      <td>0.0</td>\n",
       "      <td>1.0</td>\n",
       "      <td>0</td>\n",
       "    </tr>\n",
       "    <tr>\n",
       "      <td>1849281</td>\n",
       "      <td>2010-07-02 07:59:00</td>\n",
       "      <td>0.380</td>\n",
       "      <td>0.218</td>\n",
       "      <td>239.24</td>\n",
       "      <td>1.8</td>\n",
       "      <td>0.0</td>\n",
       "      <td>0.0</td>\n",
       "      <td>0.0</td>\n",
       "      <td>0</td>\n",
       "    </tr>\n",
       "    <tr>\n",
       "      <td>1849282</td>\n",
       "      <td>2010-07-02 08:00:00</td>\n",
       "      <td>0.378</td>\n",
       "      <td>0.216</td>\n",
       "      <td>238.64</td>\n",
       "      <td>1.8</td>\n",
       "      <td>0.0</td>\n",
       "      <td>0.0</td>\n",
       "      <td>1.0</td>\n",
       "      <td>0</td>\n",
       "    </tr>\n",
       "    <tr>\n",
       "      <td>1849283</td>\n",
       "      <td>2010-07-02 08:01:00</td>\n",
       "      <td>0.378</td>\n",
       "      <td>0.218</td>\n",
       "      <td>239.13</td>\n",
       "      <td>1.8</td>\n",
       "      <td>0.0</td>\n",
       "      <td>0.0</td>\n",
       "      <td>1.0</td>\n",
       "      <td>0</td>\n",
       "    </tr>\n",
       "    <tr>\n",
       "      <td>1849284</td>\n",
       "      <td>2010-07-02 08:02:00</td>\n",
       "      <td>0.376</td>\n",
       "      <td>0.214</td>\n",
       "      <td>238.32</td>\n",
       "      <td>1.8</td>\n",
       "      <td>0.0</td>\n",
       "      <td>0.0</td>\n",
       "      <td>0.0</td>\n",
       "      <td>0</td>\n",
       "    </tr>\n",
       "    <tr>\n",
       "      <td>...</td>\n",
       "      <td>...</td>\n",
       "      <td>...</td>\n",
       "      <td>...</td>\n",
       "      <td>...</td>\n",
       "      <td>...</td>\n",
       "      <td>...</td>\n",
       "      <td>...</td>\n",
       "      <td>...</td>\n",
       "      <td>...</td>\n",
       "    </tr>\n",
       "    <tr>\n",
       "      <td>2049275</td>\n",
       "      <td>2010-11-26 20:58:00</td>\n",
       "      <td>0.946</td>\n",
       "      <td>0.000</td>\n",
       "      <td>240.43</td>\n",
       "      <td>4.0</td>\n",
       "      <td>0.0</td>\n",
       "      <td>0.0</td>\n",
       "      <td>0.0</td>\n",
       "      <td>0</td>\n",
       "    </tr>\n",
       "    <tr>\n",
       "      <td>2049276</td>\n",
       "      <td>2010-11-26 20:59:00</td>\n",
       "      <td>0.944</td>\n",
       "      <td>0.000</td>\n",
       "      <td>240.00</td>\n",
       "      <td>4.0</td>\n",
       "      <td>0.0</td>\n",
       "      <td>0.0</td>\n",
       "      <td>0.0</td>\n",
       "      <td>0</td>\n",
       "    </tr>\n",
       "    <tr>\n",
       "      <td>2049277</td>\n",
       "      <td>2010-11-26 21:00:00</td>\n",
       "      <td>0.938</td>\n",
       "      <td>0.000</td>\n",
       "      <td>239.82</td>\n",
       "      <td>3.8</td>\n",
       "      <td>0.0</td>\n",
       "      <td>0.0</td>\n",
       "      <td>0.0</td>\n",
       "      <td>0</td>\n",
       "    </tr>\n",
       "    <tr>\n",
       "      <td>2049278</td>\n",
       "      <td>2010-11-26 21:01:00</td>\n",
       "      <td>0.934</td>\n",
       "      <td>0.000</td>\n",
       "      <td>239.70</td>\n",
       "      <td>3.8</td>\n",
       "      <td>0.0</td>\n",
       "      <td>0.0</td>\n",
       "      <td>0.0</td>\n",
       "      <td>0</td>\n",
       "    </tr>\n",
       "    <tr>\n",
       "      <td>2049279</td>\n",
       "      <td>2010-11-26 21:02:00</td>\n",
       "      <td>0.932</td>\n",
       "      <td>0.000</td>\n",
       "      <td>239.55</td>\n",
       "      <td>3.8</td>\n",
       "      <td>0.0</td>\n",
       "      <td>0.0</td>\n",
       "      <td>0.0</td>\n",
       "      <td>0</td>\n",
       "    </tr>\n",
       "  </tbody>\n",
       "</table>\n",
       "<p>200000 rows × 9 columns</p>\n",
       "</div>"
      ],
      "text/plain": [
       "                         dt  Global_active_power  Global_reactive_power  \\\n",
       "1849280 2010-07-02 07:58:00                0.376                  0.208   \n",
       "1849281 2010-07-02 07:59:00                0.380                  0.218   \n",
       "1849282 2010-07-02 08:00:00                0.378                  0.216   \n",
       "1849283 2010-07-02 08:01:00                0.378                  0.218   \n",
       "1849284 2010-07-02 08:02:00                0.376                  0.214   \n",
       "...                     ...                  ...                    ...   \n",
       "2049275 2010-11-26 20:58:00                0.946                  0.000   \n",
       "2049276 2010-11-26 20:59:00                0.944                  0.000   \n",
       "2049277 2010-11-26 21:00:00                0.938                  0.000   \n",
       "2049278 2010-11-26 21:01:00                0.934                  0.000   \n",
       "2049279 2010-11-26 21:02:00                0.932                  0.000   \n",
       "\n",
       "         Voltage  Global_intensity  Sub_metering_1  Sub_metering_2  \\\n",
       "1849280   237.01               1.8             0.0             0.0   \n",
       "1849281   239.24               1.8             0.0             0.0   \n",
       "1849282   238.64               1.8             0.0             0.0   \n",
       "1849283   239.13               1.8             0.0             0.0   \n",
       "1849284   238.32               1.8             0.0             0.0   \n",
       "...          ...               ...             ...             ...   \n",
       "2049275   240.43               4.0             0.0             0.0   \n",
       "2049276   240.00               4.0             0.0             0.0   \n",
       "2049277   239.82               3.8             0.0             0.0   \n",
       "2049278   239.70               3.8             0.0             0.0   \n",
       "2049279   239.55               3.8             0.0             0.0   \n",
       "\n",
       "         Sub_metering_3  Global_intensity_new  \n",
       "1849280             1.0                     0  \n",
       "1849281             0.0                     0  \n",
       "1849282             1.0                     0  \n",
       "1849283             1.0                     0  \n",
       "1849284             0.0                     0  \n",
       "...                 ...                   ...  \n",
       "2049275             0.0                     0  \n",
       "2049276             0.0                     0  \n",
       "2049277             0.0                     0  \n",
       "2049278             0.0                     0  \n",
       "2049279             0.0                     0  \n",
       "\n",
       "[200000 rows x 9 columns]"
      ]
     },
     "execution_count": 18,
     "metadata": {},
     "output_type": "execute_result"
    }
   ],
   "source": [
    "# Grab the last 200000 rows and assign it to seperate dataframe\n",
    "\n",
    "validdata = df.tail(200000)\n",
    "validdata"
   ]
  },
  {
   "cell_type": "code",
   "execution_count": 19,
   "metadata": {},
   "outputs": [],
   "source": [
    "# Slice out the bottom 200,000 observations for Project tests\n",
    "\n",
    "df.drop(df.tail(200000).index,inplace=True)"
   ]
  },
  {
   "cell_type": "code",
   "execution_count": 20,
   "metadata": {},
   "outputs": [
    {
     "data": {
      "text/plain": [
       "(1849280, 9)"
      ]
     },
     "execution_count": 20,
     "metadata": {},
     "output_type": "execute_result"
    }
   ],
   "source": [
    "# Data for Training and Testing\n",
    "\n",
    "df.shape"
   ]
  },
  {
   "cell_type": "code",
   "execution_count": 21,
   "metadata": {},
   "outputs": [
    {
     "data": {
      "text/plain": [
       "(200000, 9)"
      ]
     },
     "execution_count": 21,
     "metadata": {},
     "output_type": "execute_result"
    }
   ],
   "source": [
    "# Data for Validation Test\n",
    "\n",
    "validdata.shape"
   ]
  },
  {
   "cell_type": "markdown",
   "metadata": {},
   "source": [
    "## 5. Data Pre-processing"
   ]
  },
  {
   "cell_type": "code",
   "execution_count": 24,
   "metadata": {},
   "outputs": [],
   "source": [
    "# Preparing Data for training and testing\n",
    "\n",
    "X_train = df.drop(columns=['dt','Global_intensity','Global_intensity_new'],axis=1)\n",
    "y_train = df['Global_intensity_new']\n",
    "\n",
    "X_test = validdata.drop(columns=['dt','Global_intensity','Global_intensity_new'],axis=1)\n",
    "y_test = validdata['Global_intensity_new']"
   ]
  },
  {
   "cell_type": "code",
   "execution_count": 27,
   "metadata": {},
   "outputs": [],
   "source": [
    "from sklearn.ensemble import RandomForestClassifier\n",
    "from sklearn.model_selection import train_test_split\n",
    "from sklearn.metrics import confusion_matrix \n",
    "from sklearn.metrics import accuracy_score \n",
    "from sklearn.metrics import classification_report\n",
    "from sklearn.model_selection import GridSearchCV "
   ]
  },
  {
   "cell_type": "code",
   "execution_count": 28,
   "metadata": {},
   "outputs": [],
   "source": [
    "# Splitting the data into test and train dataset \n",
    "\n",
    "X_train, X_test, y_train, y_test = train_test_split(X_train, y_train, test_size=0.2, random_state=0)"
   ]
  },
  {
   "cell_type": "markdown",
   "metadata": {},
   "source": [
    "## 6. Modelling"
   ]
  },
  {
   "cell_type": "code",
   "execution_count": 30,
   "metadata": {},
   "outputs": [
    {
     "name": "stdout",
     "output_type": "stream",
     "text": [
      "Wall time: 6h 51min 34s\n"
     ]
    },
    {
     "data": {
      "text/plain": [
       "GridSearchCV(cv=5, error_score='raise-deprecating',\n",
       "             estimator=RandomForestClassifier(bootstrap=True, class_weight=None,\n",
       "                                              criterion='gini', max_depth=None,\n",
       "                                              max_features='auto',\n",
       "                                              max_leaf_nodes=None,\n",
       "                                              min_impurity_decrease=0.0,\n",
       "                                              min_impurity_split=None,\n",
       "                                              min_samples_leaf=1,\n",
       "                                              min_samples_split=2,\n",
       "                                              min_weight_fraction_leaf=0.0,\n",
       "                                              n_estimators='warn', n_jobs=None,\n",
       "                                              oob_score=False,\n",
       "                                              random_state=None, verbose=0,\n",
       "                                              warm_start=False),\n",
       "             iid='warn', n_jobs=-1,\n",
       "             param_grid={'bootstrap': [True, False],\n",
       "                         'criterion': ['gini', 'entropy'],\n",
       "                         'n_estimators': [10, 30, 100, 300, 1000]},\n",
       "             pre_dispatch='2*n_jobs', refit=True, return_train_score=False,\n",
       "             scoring=None, verbose=0)"
      ]
     },
     "execution_count": 30,
     "metadata": {},
     "output_type": "execute_result"
    }
   ],
   "source": [
    "%%time\n",
    "#create a new rf classifier\n",
    "rf=RandomForestClassifier()\n",
    "\n",
    "#create a dictionary of all values we want to test for n_estimators\n",
    "params_rf={'n_estimators': [10,30,100,300,1000],'criterion': ['gini', 'entropy'], 'bootstrap': [True, False]}\n",
    "\n",
    "#use gridsearch to test all values for n_estimators\n",
    "rf_gs = GridSearchCV(rf, params_rf, cv=5,n_jobs=-1)\n",
    "\n",
    "#fit model to training data\n",
    "rf_gs.fit(X_train, y_train)"
   ]
  },
  {
   "cell_type": "code",
   "execution_count": 31,
   "metadata": {},
   "outputs": [
    {
     "name": "stdout",
     "output_type": "stream",
     "text": [
      "{'bootstrap': True, 'criterion': 'entropy', 'n_estimators': 300}\n",
      "Wall time: 0 ns\n"
     ]
    }
   ],
   "source": [
    "%%time\n",
    "#save best model\n",
    "rf_best=rf_gs.best_estimator_\n",
    "\n",
    "#check best n_estimators value\n",
    "print(rf_gs.best_params_)"
   ]
  },
  {
   "cell_type": "code",
   "execution_count": 37,
   "metadata": {},
   "outputs": [
    {
     "name": "stdout",
     "output_type": "stream",
     "text": [
      "Wall time: 0 ns\n"
     ]
    }
   ],
   "source": [
    "%%time\n",
    "rf1=RandomForestClassifier(n_estimators= 1000)"
   ]
  },
  {
   "cell_type": "code",
   "execution_count": 38,
   "metadata": {},
   "outputs": [
    {
     "name": "stdout",
     "output_type": "stream",
     "text": [
      "Wall time: 1h 24min 19s\n"
     ]
    },
    {
     "data": {
      "text/plain": [
       "RandomForestClassifier(bootstrap=True, class_weight=None, criterion='gini',\n",
       "                       max_depth=None, max_features='auto', max_leaf_nodes=None,\n",
       "                       min_impurity_decrease=0.0, min_impurity_split=None,\n",
       "                       min_samples_leaf=1, min_samples_split=2,\n",
       "                       min_weight_fraction_leaf=0.0, n_estimators=1000,\n",
       "                       n_jobs=None, oob_score=False, random_state=None,\n",
       "                       verbose=0, warm_start=False)"
      ]
     },
     "execution_count": 38,
     "metadata": {},
     "output_type": "execute_result"
    }
   ],
   "source": [
    "%%time\n",
    "rf1.fit(X_train, y_train)"
   ]
  },
  {
   "cell_type": "code",
   "execution_count": 39,
   "metadata": {},
   "outputs": [],
   "source": [
    "y_pred=rf1.predict(X_test)"
   ]
  },
  {
   "cell_type": "markdown",
   "metadata": {},
   "source": [
    "## 7. Results"
   ]
  },
  {
   "cell_type": "code",
   "execution_count": 43,
   "metadata": {},
   "outputs": [
    {
     "name": "stdout",
     "output_type": "stream",
     "text": [
      "Accuracy Score : 0.9993024312164734\n",
      "Confusion Matrix :\n",
      "[[355116    104]\n",
      " [   154  14482]]\n",
      "Classification Report : \n",
      "              precision    recall  f1-score   support\n",
      "\n",
      "           0       1.00      1.00      1.00    355220\n",
      "           1       0.99      0.99      0.99     14636\n",
      "\n",
      "    accuracy                           1.00    369856\n",
      "   macro avg       1.00      0.99      1.00    369856\n",
      "weighted avg       1.00      1.00      1.00    369856\n",
      "\n"
     ]
    }
   ],
   "source": [
    "#printing the results \n",
    "\n",
    "print ('Accuracy Score :',accuracy_score(y_test, y_pred)) \n",
    "print ('Confusion Matrix :') \n",
    "print(confusion_matrix(y_test, y_pred)) \n",
    "print ('Classification Report : ') \n",
    "print (classification_report(y_test, y_pred)) "
   ]
  }
 ],
 "metadata": {
  "kernelspec": {
   "display_name": "Python 3",
   "language": "python",
   "name": "python3"
  },
  "language_info": {
   "codemirror_mode": {
    "name": "ipython",
    "version": 3
   },
   "file_extension": ".py",
   "mimetype": "text/x-python",
   "name": "python",
   "nbconvert_exporter": "python",
   "pygments_lexer": "ipython3",
   "version": "3.7.4"
  }
 },
 "nbformat": 4,
 "nbformat_minor": 2
}
